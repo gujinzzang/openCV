{
 "cells": [
  {
   "cell_type": "code",
   "execution_count": 4,
   "metadata": {},
   "outputs": [
    {
     "name": "stdout",
     "output_type": "stream",
     "text": [
      "\n",
      "    Zoom In-Out demo\n",
      "    ------------------\n",
      "    * [i] -> Zoom [i]n\n",
      "    * [o] -> Zoom [o]ut\n",
      "    * [ESC] -> Close program\n",
      "    \n",
      "** Zoom In: Image x 2\n",
      "** Zoom Out: Image / 2\n",
      "** Zoom In: Image x 2\n",
      "** Zoom Out: Image / 2\n",
      "** Zoom In: Image x 2\n",
      "** Zoom Out: Image / 2\n",
      "** Zoom In: Image x 2\n",
      "** Zoom Out: Image / 2\n",
      "** Zoom In: Image x 2\n",
      "** Zoom Out: Image / 2\n",
      "** Zoom In: Image x 2\n",
      "** Zoom Out: Image / 2\n",
      "** Zoom In: Image x 2\n",
      "** Zoom Out: Image / 2\n",
      "** Zoom In: Image x 2\n",
      "** Zoom Out: Image / 2\n",
      "** Zoom In: Image x 2\n",
      "** Zoom Out: Image / 2\n",
      "** Zoom In: Image x 2\n",
      "** Zoom Out: Image / 2\n",
      "** Zoom In: Image x 2\n",
      "** Zoom Out: Image / 2\n",
      "** Zoom In: Image x 2\n",
      "** Zoom Out: Image / 2\n",
      "** Zoom In: Image x 2\n"
     ]
    }
   ],
   "source": [
    "import sys\n",
    "import cv2 as cv\n",
    "def main(argv):\n",
    "    print(\"\"\"\n",
    "    Zoom In-Out demo\n",
    "    ------------------\n",
    "    * [i] -> Zoom [i]n\n",
    "    * [o] -> Zoom [o]ut\n",
    "    * [ESC] -> Close program\n",
    "    \"\"\")\n",
    "    \n",
    "    filename = argv[0] if len(argv) > 0 else 'dog.jpg'\n",
    "    # Load the image\n",
    "    src = cv.imread('D:/big/TLO/openCV/pic/dog.jpg') #file directory\n",
    "    # Check if image is loaded fine\n",
    "    if src is None:\n",
    "        print ('Error opening image!')\n",
    "        print ('Usage: pyramids.py [image_name -- default ../dog.jpg] \\n')\n",
    "        return -1\n",
    "    \n",
    "    while 1:\n",
    "        rows, cols, _channels = map(int, src.shape)\n",
    "        \n",
    "        cv.imshow('Pyramids Demo', src)\n",
    "        \n",
    "        k = cv.waitKey(0)\n",
    "        if k == 27:\n",
    "            break\n",
    "            \n",
    "        elif chr(k) == 'i':\n",
    "            src = cv.pyrUp(src, dstsize=(2 * cols, 2 * rows))\n",
    "            print ('** Zoom In: Image x 2')\n",
    "            \n",
    "        elif chr(k) == 'o':\n",
    "            src = cv.pyrDown(src, dstsize=(cols // 2, rows // 2))\n",
    "            print ('** Zoom Out: Image / 2')\n",
    "            \n",
    "    cv.destroyAllWindows()\n",
    "    return 0\n",
    "if __name__ == \"__main__\":\n",
    "    main(sys.argv[1:])"
   ]
  },
  {
   "cell_type": "code",
   "execution_count": null,
   "metadata": {},
   "outputs": [],
   "source": []
  }
 ],
 "metadata": {
  "kernelspec": {
   "display_name": "Python 3",
   "language": "python",
   "name": "python3"
  },
  "language_info": {
   "codemirror_mode": {
    "name": "ipython",
    "version": 3
   },
   "file_extension": ".py",
   "mimetype": "text/x-python",
   "name": "python",
   "nbconvert_exporter": "python",
   "pygments_lexer": "ipython3",
   "version": "3.5.6"
  }
 },
 "nbformat": 4,
 "nbformat_minor": 4
}
