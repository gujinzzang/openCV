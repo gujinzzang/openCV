{
 "cells": [
  {
   "cell_type": "code",
   "execution_count": 1,
   "metadata": {},
   "outputs": [
    {
     "data": {
      "text/plain": [
       "-1"
      ]
     },
     "execution_count": 1,
     "metadata": {},
     "output_type": "execute_result"
    }
   ],
   "source": [
    "from __future__ import print_function\n",
    "import cv2 as cv\n",
    "import numpy as np\n",
    "import argparse\n",
    "\n",
    "erosion_size = 0\n",
    "max_elem = 2\n",
    "max_kernel_size = 21\n",
    "title_trackbar_element_type = 'Element:\\n 0: Rect \\n 1: Cross \\n 2: Ellipse'\n",
    "title_trackbar_kernel_size = 'Kernel size:\\n 2n +1'\n",
    "title_erosion_window = 'Erosion Demo'\n",
    "title_dilatation_window = 'Dilation Demo'\n",
    "\n",
    "def erosion(val):\n",
    "    erosion_size = cv.getTrackbarPos(title_trackbar_kernel_size, title_erosion_window)\n",
    "    erosion_type = 0\n",
    "    val_type = cv.getTrackbarPos(title_trackbar_element_type, title_erosion_window)\n",
    "    if val_type == 0:\n",
    "        erosion_type = cv.MORPH_RECT\n",
    "    elif val_type == 1:\n",
    "        erosion_type = cv.MORPH_CROSS\n",
    "    elif val_type == 2:\n",
    "        erosion_type = cv.MORPH_ELLIPSE\n",
    "\n",
    "    element = cv.getStructuringElement(erosion_type, (2*erosion_size + 1, 2*erosion_size+1), (erosion_size, erosion_size))\n",
    "    erosion_dst = cv.erode(src, element)\n",
    "    cv.imshow(title_erosion_window, erosion_dst)\n",
    "\n",
    "def dilatation(val):\n",
    "    dilatation_size = cv.getTrackbarPos(title_trackbar_kernel_size, title_dilatation_window)\n",
    "    dilatation_type = 0\n",
    "    val_type = cv.getTrackbarPos(title_trackbar_element_type, title_dilatation_window)\n",
    "    if val_type == 0:\n",
    "        dilatation_type = cv.MORPH_RECT\n",
    "    elif val_type == 1:\n",
    "        dilatation_type = cv.MORPH_CROSS\n",
    "    elif val_type == 2:\n",
    "        dilatation_type = cv.MORPH_ELLIPSE\n",
    "\n",
    "    element = cv.getStructuringElement(dilatation_type, (2*dilatation_size + 1, 2*dilatation_size+1), (dilatation_size, dilatation_size))\n",
    "    dilatation_dst = cv.dilate(src, element)\n",
    "    cv.imshow(title_dilatation_window, dilatation_dst)\n",
    "\n",
    "#parser = argparse.ArgumentParser(description='Code for Eroding and Dilating tutorial.')\n",
    "#parser.add_argument('--input', help='Path to input image.', default='cat.jpg')\n",
    "#args = parser.parse_args()\n",
    "\n",
    "src = cv.imread('D:/big/TLO/openCV/pic/cat.jpg') #file directory\n",
    "if src is None:\n",
    "    print('Could not open or find the image: ', args.input)\n",
    "    exit(0)\n",
    "\n",
    "cv.namedWindow(title_erosion_window)\n",
    "cv.createTrackbar(title_trackbar_element_type, title_erosion_window , 0, max_elem, erosion)\n",
    "cv.createTrackbar(title_trackbar_kernel_size, title_erosion_window , 0, max_kernel_size, erosion)\n",
    "\n",
    "cv.namedWindow(title_dilatation_window)\n",
    "cv.createTrackbar(title_trackbar_element_type, title_dilatation_window , 0, max_elem, dilatation)\n",
    "cv.createTrackbar(title_trackbar_kernel_size, title_dilatation_window , 0, max_kernel_size, dilatation)\n",
    "\n",
    "erosion(0)\n",
    "dilatation(0)\n",
    "cv.waitKey()"
   ]
  }
 ],
 "metadata": {
  "kernelspec": {
   "display_name": "Python 3",
   "language": "python",
   "name": "python3"
  },
  "language_info": {
   "codemirror_mode": {
    "name": "ipython",
    "version": 3
   },
   "file_extension": ".py",
   "mimetype": "text/x-python",
   "name": "python",
   "nbconvert_exporter": "python",
   "pygments_lexer": "ipython3",
   "version": "3.5.6"
  }
 },
 "nbformat": 4,
 "nbformat_minor": 4
}
