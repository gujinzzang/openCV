{
 "cells": [
  {
   "cell_type": "code",
   "execution_count": 5,
   "metadata": {},
   "outputs": [
    {
     "data": {
      "text/plain": [
       "-1"
      ]
     },
     "execution_count": 5,
     "metadata": {},
     "output_type": "execute_result"
    }
   ],
   "source": [
    "from __future__ import print_function\n",
    "import cv2 as cv\n",
    "import numpy as np\n",
    "import argparse\n",
    "morph_size = 0\n",
    "max_operator = 4\n",
    "max_elem = 2\n",
    "max_kernel_size = 21\n",
    "title_trackbar_operator_type = 'Operator:\\n 0: Opening - 1: Closing  \\n 2: Gradient - 3: Top Hat \\n 4: Black Hat'\n",
    "title_trackbar_element_type = 'Element:\\n 0: Rect - 1: Cross - 2: Ellipse'\n",
    "title_trackbar_kernel_size = 'Kernel size:\\n 2n + 1'\n",
    "title_window = 'Morphology Transformations Demo'\n",
    "morph_op_dic = {0: cv.MORPH_OPEN, 1: cv.MORPH_CLOSE, 2: cv.MORPH_GRADIENT, 3: cv.MORPH_TOPHAT, 4: cv.MORPH_BLACKHAT}\n",
    "def morphology_operations(val):\n",
    "    morph_operator = cv.getTrackbarPos(title_trackbar_operator_type, title_window)\n",
    "    morph_size = cv.getTrackbarPos(title_trackbar_kernel_size, title_window)\n",
    "    morph_elem = 0\n",
    "    val_type = cv.getTrackbarPos(title_trackbar_element_type, title_window)\n",
    "    if val_type == 0:\n",
    "        morph_elem = cv.MORPH_RECT\n",
    "    elif val_type == 1:\n",
    "        morph_elem = cv.MORPH_CROSS\n",
    "    elif val_type == 2:\n",
    "        morph_elem = cv.MORPH_ELLIPSE\n",
    "    element = cv.getStructuringElement(morph_elem, (2*morph_size + 1, 2*morph_size+1), (morph_size, morph_size))\n",
    "    operation = morph_op_dic[morph_operator]\n",
    "    dst = cv.morphologyEx(src, operation, element)\n",
    "    cv.imshow(title_window, dst)\n",
    "#parser = argparse.ArgumentParser(description='Code for More Morphology Transformations tutorial.')\n",
    "#parser.add_argument('--input', help='Path to input image.', default='baboon.jpg')\n",
    "#args = parser.parse_args()\n",
    "src = cv.imread('D:/big/TLO/openCV/pic/baboon.jpg') #file directory\n",
    "if src is None:\n",
    "    print('Could not open or find the image: ', args.input)\n",
    "    exit(0)\n",
    "cv.namedWindow(title_window)\n",
    "cv.createTrackbar(title_trackbar_operator_type, title_window , 0, max_operator, morphology_operations)\n",
    "cv.createTrackbar(title_trackbar_element_type, title_window , 0, max_elem, morphology_operations)\n",
    "cv.createTrackbar(title_trackbar_kernel_size, title_window , 0, max_kernel_size, morphology_operations)\n",
    "morphology_operations(0)\n",
    "cv.waitKey()"
   ]
  }
 ],
 "metadata": {
  "kernelspec": {
   "display_name": "Python 3",
   "language": "python",
   "name": "python3"
  },
  "language_info": {
   "codemirror_mode": {
    "name": "ipython",
    "version": 3
   },
   "file_extension": ".py",
   "mimetype": "text/x-python",
   "name": "python",
   "nbconvert_exporter": "python",
   "pygments_lexer": "ipython3",
   "version": "3.5.6"
  }
 },
 "nbformat": 4,
 "nbformat_minor": 4
}
